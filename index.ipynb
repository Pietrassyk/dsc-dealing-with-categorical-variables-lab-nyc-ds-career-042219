{
 "cells": [
  {
   "cell_type": "markdown",
   "metadata": {},
   "source": [
    "# Dealing with Categorical Variables - Lab"
   ]
  },
  {
   "cell_type": "markdown",
   "metadata": {},
   "source": [
    "## Introduction\n",
    "In this lab, you'll explore the Boston Housing Data Set for categorical variables, and you'll transform your data so you'll be able to use categorical data as predictors!"
   ]
  },
  {
   "cell_type": "markdown",
   "metadata": {},
   "source": [
    "## Objectives\n",
    "You will be able to:\n",
    "* Identify and inspect the categorical variables in the Boston housing data set\n",
    "* Learn how to categorize inputs that aren't categorical\n",
    "* Create new datasets with dummy variables "
   ]
  },
  {
   "cell_type": "markdown",
   "metadata": {},
   "source": [
    "## Importing the Boston Housing data set"
   ]
  },
  {
   "cell_type": "markdown",
   "metadata": {},
   "source": [
    "Let's start by importing the Boston Housing data set. This data set is available in Scikit-Learn, and can be imported running the column below."
   ]
  },
  {
   "cell_type": "code",
   "execution_count": 1,
   "metadata": {},
   "outputs": [],
   "source": [
    "import pandas as pd\n",
    "from sklearn.datasets import load_boston\n",
    "boston = load_boston()"
   ]
  },
  {
   "cell_type": "markdown",
   "metadata": {},
   "source": [
    "If you'll inspect Boston now, you'll see that this basically returns a dictionary. Let's have a look at what exactly is stored in the dictionary by looking at the dictionary keys "
   ]
  },
  {
   "cell_type": "code",
   "execution_count": 2,
   "metadata": {},
   "outputs": [],
   "source": [
    "# inspect boston\n",
    "#boston"
   ]
  },
  {
   "cell_type": "code",
   "execution_count": 3,
   "metadata": {},
   "outputs": [
    {
     "data": {
      "text/plain": [
       "dict_keys(['data', 'target', 'feature_names', 'DESCR', 'filename'])"
      ]
     },
     "execution_count": 3,
     "metadata": {},
     "output_type": "execute_result"
    }
   ],
   "source": [
    "# look at the keys\n",
    "boston.keys()"
   ]
  },
  {
   "cell_type": "markdown",
   "metadata": {},
   "source": [
    "Let's create a Pandas DataFrame with the data (which are the features, not including the target) and the feature names as column names."
   ]
  },
  {
   "cell_type": "code",
   "execution_count": 4,
   "metadata": {},
   "outputs": [],
   "source": [
    "boston_features = pd.DataFrame(boston[\"data\"], columns = boston[\"feature_names\"])"
   ]
  },
  {
   "cell_type": "code",
   "execution_count": 5,
   "metadata": {},
   "outputs": [
    {
     "data": {
      "text/html": [
       "<div>\n",
       "<style scoped>\n",
       "    .dataframe tbody tr th:only-of-type {\n",
       "        vertical-align: middle;\n",
       "    }\n",
       "\n",
       "    .dataframe tbody tr th {\n",
       "        vertical-align: top;\n",
       "    }\n",
       "\n",
       "    .dataframe thead th {\n",
       "        text-align: right;\n",
       "    }\n",
       "</style>\n",
       "<table border=\"1\" class=\"dataframe\">\n",
       "  <thead>\n",
       "    <tr style=\"text-align: right;\">\n",
       "      <th></th>\n",
       "      <th>CRIM</th>\n",
       "      <th>ZN</th>\n",
       "      <th>INDUS</th>\n",
       "      <th>CHAS</th>\n",
       "      <th>NOX</th>\n",
       "      <th>RM</th>\n",
       "      <th>AGE</th>\n",
       "      <th>DIS</th>\n",
       "      <th>RAD</th>\n",
       "      <th>TAX</th>\n",
       "      <th>PTRATIO</th>\n",
       "      <th>B</th>\n",
       "      <th>LSTAT</th>\n",
       "    </tr>\n",
       "  </thead>\n",
       "  <tbody>\n",
       "    <tr>\n",
       "      <th>0</th>\n",
       "      <td>0.00632</td>\n",
       "      <td>18.0</td>\n",
       "      <td>2.31</td>\n",
       "      <td>0.0</td>\n",
       "      <td>0.538</td>\n",
       "      <td>6.575</td>\n",
       "      <td>65.2</td>\n",
       "      <td>4.0900</td>\n",
       "      <td>1.0</td>\n",
       "      <td>296.0</td>\n",
       "      <td>15.3</td>\n",
       "      <td>396.90</td>\n",
       "      <td>4.98</td>\n",
       "    </tr>\n",
       "    <tr>\n",
       "      <th>1</th>\n",
       "      <td>0.02731</td>\n",
       "      <td>0.0</td>\n",
       "      <td>7.07</td>\n",
       "      <td>0.0</td>\n",
       "      <td>0.469</td>\n",
       "      <td>6.421</td>\n",
       "      <td>78.9</td>\n",
       "      <td>4.9671</td>\n",
       "      <td>2.0</td>\n",
       "      <td>242.0</td>\n",
       "      <td>17.8</td>\n",
       "      <td>396.90</td>\n",
       "      <td>9.14</td>\n",
       "    </tr>\n",
       "    <tr>\n",
       "      <th>2</th>\n",
       "      <td>0.02729</td>\n",
       "      <td>0.0</td>\n",
       "      <td>7.07</td>\n",
       "      <td>0.0</td>\n",
       "      <td>0.469</td>\n",
       "      <td>7.185</td>\n",
       "      <td>61.1</td>\n",
       "      <td>4.9671</td>\n",
       "      <td>2.0</td>\n",
       "      <td>242.0</td>\n",
       "      <td>17.8</td>\n",
       "      <td>392.83</td>\n",
       "      <td>4.03</td>\n",
       "    </tr>\n",
       "    <tr>\n",
       "      <th>3</th>\n",
       "      <td>0.03237</td>\n",
       "      <td>0.0</td>\n",
       "      <td>2.18</td>\n",
       "      <td>0.0</td>\n",
       "      <td>0.458</td>\n",
       "      <td>6.998</td>\n",
       "      <td>45.8</td>\n",
       "      <td>6.0622</td>\n",
       "      <td>3.0</td>\n",
       "      <td>222.0</td>\n",
       "      <td>18.7</td>\n",
       "      <td>394.63</td>\n",
       "      <td>2.94</td>\n",
       "    </tr>\n",
       "    <tr>\n",
       "      <th>4</th>\n",
       "      <td>0.06905</td>\n",
       "      <td>0.0</td>\n",
       "      <td>2.18</td>\n",
       "      <td>0.0</td>\n",
       "      <td>0.458</td>\n",
       "      <td>7.147</td>\n",
       "      <td>54.2</td>\n",
       "      <td>6.0622</td>\n",
       "      <td>3.0</td>\n",
       "      <td>222.0</td>\n",
       "      <td>18.7</td>\n",
       "      <td>396.90</td>\n",
       "      <td>5.33</td>\n",
       "    </tr>\n",
       "  </tbody>\n",
       "</table>\n",
       "</div>"
      ],
      "text/plain": [
       "      CRIM    ZN  INDUS  CHAS    NOX     RM   AGE     DIS  RAD    TAX  \\\n",
       "0  0.00632  18.0   2.31   0.0  0.538  6.575  65.2  4.0900  1.0  296.0   \n",
       "1  0.02731   0.0   7.07   0.0  0.469  6.421  78.9  4.9671  2.0  242.0   \n",
       "2  0.02729   0.0   7.07   0.0  0.469  7.185  61.1  4.9671  2.0  242.0   \n",
       "3  0.03237   0.0   2.18   0.0  0.458  6.998  45.8  6.0622  3.0  222.0   \n",
       "4  0.06905   0.0   2.18   0.0  0.458  7.147  54.2  6.0622  3.0  222.0   \n",
       "\n",
       "   PTRATIO       B  LSTAT  \n",
       "0     15.3  396.90   4.98  \n",
       "1     17.8  396.90   9.14  \n",
       "2     17.8  392.83   4.03  \n",
       "3     18.7  394.63   2.94  \n",
       "4     18.7  396.90   5.33  "
      ]
     },
     "execution_count": 5,
     "metadata": {},
     "output_type": "execute_result"
    }
   ],
   "source": [
    "#inspect the first few rows\n",
    "boston_features.head()"
   ]
  },
  {
   "cell_type": "markdown",
   "metadata": {},
   "source": [
    "For your reference, we copied the attribute information below. Additional information can be found here: http://scikit-learn.org/stable/datasets/index.html#boston-dataset\n",
    "- CRIM: per capita crime rate by town\n",
    "- ZN: proportion of residential land zoned for lots over 25,000 sq.ft.\n",
    "- INDUS: proportion of non-retail business acres per town\n",
    "- CHAS: Charles River dummy variable (= 1 if tract bounds river; 0 otherwise)\n",
    "- NOX: nitric oxides concentration (parts per 10 million)\n",
    "- RM: average number of rooms per dwelling\n",
    "- AGE: proportion of owner-occupied units built prior to 1940\n",
    "- DIS: weighted distances to five Boston employment centres\n",
    "- RAD: index of accessibility to radial highways\n",
    "- TAX: full-value property-tax rate per $10,000\n",
    "- PTRATIO: pupil-teacher ratio by town\n",
    "- B: 1000(Bk - 0.63)^2 where Bk is the proportion of blacks by town\n",
    "- LSTAT: % lower status of the population"
   ]
  },
  {
   "cell_type": "markdown",
   "metadata": {},
   "source": [
    "Let's convert the target to a dataframe as well, and assign the column name \"MEDV\""
   ]
  },
  {
   "cell_type": "code",
   "execution_count": 6,
   "metadata": {},
   "outputs": [
    {
     "data": {
      "text/html": [
       "<div>\n",
       "<style scoped>\n",
       "    .dataframe tbody tr th:only-of-type {\n",
       "        vertical-align: middle;\n",
       "    }\n",
       "\n",
       "    .dataframe tbody tr th {\n",
       "        vertical-align: top;\n",
       "    }\n",
       "\n",
       "    .dataframe thead th {\n",
       "        text-align: right;\n",
       "    }\n",
       "</style>\n",
       "<table border=\"1\" class=\"dataframe\">\n",
       "  <thead>\n",
       "    <tr style=\"text-align: right;\">\n",
       "      <th></th>\n",
       "      <th>MEDV</th>\n",
       "    </tr>\n",
       "  </thead>\n",
       "  <tbody>\n",
       "    <tr>\n",
       "      <th>0</th>\n",
       "      <td>24.0</td>\n",
       "    </tr>\n",
       "    <tr>\n",
       "      <th>1</th>\n",
       "      <td>21.6</td>\n",
       "    </tr>\n",
       "    <tr>\n",
       "      <th>2</th>\n",
       "      <td>34.7</td>\n",
       "    </tr>\n",
       "    <tr>\n",
       "      <th>3</th>\n",
       "      <td>33.4</td>\n",
       "    </tr>\n",
       "    <tr>\n",
       "      <th>4</th>\n",
       "      <td>36.2</td>\n",
       "    </tr>\n",
       "  </tbody>\n",
       "</table>\n",
       "</div>"
      ],
      "text/plain": [
       "   MEDV\n",
       "0  24.0\n",
       "1  21.6\n",
       "2  34.7\n",
       "3  33.4\n",
       "4  36.2"
      ]
     },
     "execution_count": 6,
     "metadata": {},
     "output_type": "execute_result"
    }
   ],
   "source": [
    "boston_target = pd.DataFrame(boston[\"target\"], columns=[\"MEDV\"])\n",
    "\n",
    "#inspect the first few rows\n",
    "boston_target.head()"
   ]
  },
  {
   "cell_type": "markdown",
   "metadata": {},
   "source": [
    "The target is described as: \n",
    "- MEDV: Median value of owner-occupied homes in $1000’s"
   ]
  },
  {
   "cell_type": "markdown",
   "metadata": {},
   "source": [
    "Next, let's merge the target and the predictors in one dataframe `boston_df`."
   ]
  },
  {
   "cell_type": "code",
   "execution_count": 7,
   "metadata": {},
   "outputs": [
    {
     "data": {
      "text/html": [
       "<div>\n",
       "<style scoped>\n",
       "    .dataframe tbody tr th:only-of-type {\n",
       "        vertical-align: middle;\n",
       "    }\n",
       "\n",
       "    .dataframe tbody tr th {\n",
       "        vertical-align: top;\n",
       "    }\n",
       "\n",
       "    .dataframe thead th {\n",
       "        text-align: right;\n",
       "    }\n",
       "</style>\n",
       "<table border=\"1\" class=\"dataframe\">\n",
       "  <thead>\n",
       "    <tr style=\"text-align: right;\">\n",
       "      <th></th>\n",
       "      <th>CRIM</th>\n",
       "      <th>ZN</th>\n",
       "      <th>INDUS</th>\n",
       "      <th>CHAS</th>\n",
       "      <th>NOX</th>\n",
       "      <th>RM</th>\n",
       "      <th>AGE</th>\n",
       "      <th>DIS</th>\n",
       "      <th>RAD</th>\n",
       "      <th>TAX</th>\n",
       "      <th>PTRATIO</th>\n",
       "      <th>B</th>\n",
       "      <th>LSTAT</th>\n",
       "      <th>MEDV</th>\n",
       "    </tr>\n",
       "  </thead>\n",
       "  <tbody>\n",
       "    <tr>\n",
       "      <th>0</th>\n",
       "      <td>0.00632</td>\n",
       "      <td>18.0</td>\n",
       "      <td>2.31</td>\n",
       "      <td>0.0</td>\n",
       "      <td>0.538</td>\n",
       "      <td>6.575</td>\n",
       "      <td>65.2</td>\n",
       "      <td>4.0900</td>\n",
       "      <td>1.0</td>\n",
       "      <td>296.0</td>\n",
       "      <td>15.3</td>\n",
       "      <td>396.90</td>\n",
       "      <td>4.98</td>\n",
       "      <td>24.0</td>\n",
       "    </tr>\n",
       "    <tr>\n",
       "      <th>1</th>\n",
       "      <td>0.02731</td>\n",
       "      <td>0.0</td>\n",
       "      <td>7.07</td>\n",
       "      <td>0.0</td>\n",
       "      <td>0.469</td>\n",
       "      <td>6.421</td>\n",
       "      <td>78.9</td>\n",
       "      <td>4.9671</td>\n",
       "      <td>2.0</td>\n",
       "      <td>242.0</td>\n",
       "      <td>17.8</td>\n",
       "      <td>396.90</td>\n",
       "      <td>9.14</td>\n",
       "      <td>21.6</td>\n",
       "    </tr>\n",
       "    <tr>\n",
       "      <th>2</th>\n",
       "      <td>0.02729</td>\n",
       "      <td>0.0</td>\n",
       "      <td>7.07</td>\n",
       "      <td>0.0</td>\n",
       "      <td>0.469</td>\n",
       "      <td>7.185</td>\n",
       "      <td>61.1</td>\n",
       "      <td>4.9671</td>\n",
       "      <td>2.0</td>\n",
       "      <td>242.0</td>\n",
       "      <td>17.8</td>\n",
       "      <td>392.83</td>\n",
       "      <td>4.03</td>\n",
       "      <td>34.7</td>\n",
       "    </tr>\n",
       "    <tr>\n",
       "      <th>3</th>\n",
       "      <td>0.03237</td>\n",
       "      <td>0.0</td>\n",
       "      <td>2.18</td>\n",
       "      <td>0.0</td>\n",
       "      <td>0.458</td>\n",
       "      <td>6.998</td>\n",
       "      <td>45.8</td>\n",
       "      <td>6.0622</td>\n",
       "      <td>3.0</td>\n",
       "      <td>222.0</td>\n",
       "      <td>18.7</td>\n",
       "      <td>394.63</td>\n",
       "      <td>2.94</td>\n",
       "      <td>33.4</td>\n",
       "    </tr>\n",
       "    <tr>\n",
       "      <th>4</th>\n",
       "      <td>0.06905</td>\n",
       "      <td>0.0</td>\n",
       "      <td>2.18</td>\n",
       "      <td>0.0</td>\n",
       "      <td>0.458</td>\n",
       "      <td>7.147</td>\n",
       "      <td>54.2</td>\n",
       "      <td>6.0622</td>\n",
       "      <td>3.0</td>\n",
       "      <td>222.0</td>\n",
       "      <td>18.7</td>\n",
       "      <td>396.90</td>\n",
       "      <td>5.33</td>\n",
       "      <td>36.2</td>\n",
       "    </tr>\n",
       "  </tbody>\n",
       "</table>\n",
       "</div>"
      ],
      "text/plain": [
       "      CRIM    ZN  INDUS  CHAS    NOX     RM   AGE     DIS  RAD    TAX  \\\n",
       "0  0.00632  18.0   2.31   0.0  0.538  6.575  65.2  4.0900  1.0  296.0   \n",
       "1  0.02731   0.0   7.07   0.0  0.469  6.421  78.9  4.9671  2.0  242.0   \n",
       "2  0.02729   0.0   7.07   0.0  0.469  7.185  61.1  4.9671  2.0  242.0   \n",
       "3  0.03237   0.0   2.18   0.0  0.458  6.998  45.8  6.0622  3.0  222.0   \n",
       "4  0.06905   0.0   2.18   0.0  0.458  7.147  54.2  6.0622  3.0  222.0   \n",
       "\n",
       "   PTRATIO       B  LSTAT  MEDV  \n",
       "0     15.3  396.90   4.98  24.0  \n",
       "1     17.8  396.90   9.14  21.6  \n",
       "2     17.8  392.83   4.03  34.7  \n",
       "3     18.7  394.63   2.94  33.4  \n",
       "4     18.7  396.90   5.33  36.2  "
      ]
     },
     "execution_count": 7,
     "metadata": {},
     "output_type": "execute_result"
    }
   ],
   "source": [
    "boston_df = pd.concat([boston_features,boston_target.MEDV], axis=1)\n",
    "boston_df.head()"
   ]
  },
  {
   "cell_type": "markdown",
   "metadata": {},
   "source": [
    "Let's inspect these 13 features using `.describe()` and `.info()`"
   ]
  },
  {
   "cell_type": "code",
   "execution_count": 8,
   "metadata": {},
   "outputs": [
    {
     "data": {
      "text/html": [
       "<div>\n",
       "<style scoped>\n",
       "    .dataframe tbody tr th:only-of-type {\n",
       "        vertical-align: middle;\n",
       "    }\n",
       "\n",
       "    .dataframe tbody tr th {\n",
       "        vertical-align: top;\n",
       "    }\n",
       "\n",
       "    .dataframe thead th {\n",
       "        text-align: right;\n",
       "    }\n",
       "</style>\n",
       "<table border=\"1\" class=\"dataframe\">\n",
       "  <thead>\n",
       "    <tr style=\"text-align: right;\">\n",
       "      <th></th>\n",
       "      <th>CRIM</th>\n",
       "      <th>ZN</th>\n",
       "      <th>INDUS</th>\n",
       "      <th>CHAS</th>\n",
       "      <th>NOX</th>\n",
       "      <th>RM</th>\n",
       "      <th>AGE</th>\n",
       "      <th>DIS</th>\n",
       "      <th>RAD</th>\n",
       "      <th>TAX</th>\n",
       "      <th>PTRATIO</th>\n",
       "      <th>B</th>\n",
       "      <th>LSTAT</th>\n",
       "      <th>MEDV</th>\n",
       "    </tr>\n",
       "  </thead>\n",
       "  <tbody>\n",
       "    <tr>\n",
       "      <th>count</th>\n",
       "      <td>506.000000</td>\n",
       "      <td>506.000000</td>\n",
       "      <td>506.000000</td>\n",
       "      <td>506.000000</td>\n",
       "      <td>506.000000</td>\n",
       "      <td>506.000000</td>\n",
       "      <td>506.000000</td>\n",
       "      <td>506.000000</td>\n",
       "      <td>506.000000</td>\n",
       "      <td>506.000000</td>\n",
       "      <td>506.000000</td>\n",
       "      <td>506.000000</td>\n",
       "      <td>506.000000</td>\n",
       "      <td>506.000000</td>\n",
       "    </tr>\n",
       "    <tr>\n",
       "      <th>mean</th>\n",
       "      <td>3.613524</td>\n",
       "      <td>11.363636</td>\n",
       "      <td>11.136779</td>\n",
       "      <td>0.069170</td>\n",
       "      <td>0.554695</td>\n",
       "      <td>6.284634</td>\n",
       "      <td>68.574901</td>\n",
       "      <td>3.795043</td>\n",
       "      <td>9.549407</td>\n",
       "      <td>408.237154</td>\n",
       "      <td>18.455534</td>\n",
       "      <td>356.674032</td>\n",
       "      <td>12.653063</td>\n",
       "      <td>22.532806</td>\n",
       "    </tr>\n",
       "    <tr>\n",
       "      <th>std</th>\n",
       "      <td>8.601545</td>\n",
       "      <td>23.322453</td>\n",
       "      <td>6.860353</td>\n",
       "      <td>0.253994</td>\n",
       "      <td>0.115878</td>\n",
       "      <td>0.702617</td>\n",
       "      <td>28.148861</td>\n",
       "      <td>2.105710</td>\n",
       "      <td>8.707259</td>\n",
       "      <td>168.537116</td>\n",
       "      <td>2.164946</td>\n",
       "      <td>91.294864</td>\n",
       "      <td>7.141062</td>\n",
       "      <td>9.197104</td>\n",
       "    </tr>\n",
       "    <tr>\n",
       "      <th>min</th>\n",
       "      <td>0.006320</td>\n",
       "      <td>0.000000</td>\n",
       "      <td>0.460000</td>\n",
       "      <td>0.000000</td>\n",
       "      <td>0.385000</td>\n",
       "      <td>3.561000</td>\n",
       "      <td>2.900000</td>\n",
       "      <td>1.129600</td>\n",
       "      <td>1.000000</td>\n",
       "      <td>187.000000</td>\n",
       "      <td>12.600000</td>\n",
       "      <td>0.320000</td>\n",
       "      <td>1.730000</td>\n",
       "      <td>5.000000</td>\n",
       "    </tr>\n",
       "    <tr>\n",
       "      <th>25%</th>\n",
       "      <td>0.082045</td>\n",
       "      <td>0.000000</td>\n",
       "      <td>5.190000</td>\n",
       "      <td>0.000000</td>\n",
       "      <td>0.449000</td>\n",
       "      <td>5.885500</td>\n",
       "      <td>45.025000</td>\n",
       "      <td>2.100175</td>\n",
       "      <td>4.000000</td>\n",
       "      <td>279.000000</td>\n",
       "      <td>17.400000</td>\n",
       "      <td>375.377500</td>\n",
       "      <td>6.950000</td>\n",
       "      <td>17.025000</td>\n",
       "    </tr>\n",
       "    <tr>\n",
       "      <th>50%</th>\n",
       "      <td>0.256510</td>\n",
       "      <td>0.000000</td>\n",
       "      <td>9.690000</td>\n",
       "      <td>0.000000</td>\n",
       "      <td>0.538000</td>\n",
       "      <td>6.208500</td>\n",
       "      <td>77.500000</td>\n",
       "      <td>3.207450</td>\n",
       "      <td>5.000000</td>\n",
       "      <td>330.000000</td>\n",
       "      <td>19.050000</td>\n",
       "      <td>391.440000</td>\n",
       "      <td>11.360000</td>\n",
       "      <td>21.200000</td>\n",
       "    </tr>\n",
       "    <tr>\n",
       "      <th>75%</th>\n",
       "      <td>3.677083</td>\n",
       "      <td>12.500000</td>\n",
       "      <td>18.100000</td>\n",
       "      <td>0.000000</td>\n",
       "      <td>0.624000</td>\n",
       "      <td>6.623500</td>\n",
       "      <td>94.075000</td>\n",
       "      <td>5.188425</td>\n",
       "      <td>24.000000</td>\n",
       "      <td>666.000000</td>\n",
       "      <td>20.200000</td>\n",
       "      <td>396.225000</td>\n",
       "      <td>16.955000</td>\n",
       "      <td>25.000000</td>\n",
       "    </tr>\n",
       "    <tr>\n",
       "      <th>max</th>\n",
       "      <td>88.976200</td>\n",
       "      <td>100.000000</td>\n",
       "      <td>27.740000</td>\n",
       "      <td>1.000000</td>\n",
       "      <td>0.871000</td>\n",
       "      <td>8.780000</td>\n",
       "      <td>100.000000</td>\n",
       "      <td>12.126500</td>\n",
       "      <td>24.000000</td>\n",
       "      <td>711.000000</td>\n",
       "      <td>22.000000</td>\n",
       "      <td>396.900000</td>\n",
       "      <td>37.970000</td>\n",
       "      <td>50.000000</td>\n",
       "    </tr>\n",
       "  </tbody>\n",
       "</table>\n",
       "</div>"
      ],
      "text/plain": [
       "             CRIM          ZN       INDUS        CHAS         NOX          RM  \\\n",
       "count  506.000000  506.000000  506.000000  506.000000  506.000000  506.000000   \n",
       "mean     3.613524   11.363636   11.136779    0.069170    0.554695    6.284634   \n",
       "std      8.601545   23.322453    6.860353    0.253994    0.115878    0.702617   \n",
       "min      0.006320    0.000000    0.460000    0.000000    0.385000    3.561000   \n",
       "25%      0.082045    0.000000    5.190000    0.000000    0.449000    5.885500   \n",
       "50%      0.256510    0.000000    9.690000    0.000000    0.538000    6.208500   \n",
       "75%      3.677083   12.500000   18.100000    0.000000    0.624000    6.623500   \n",
       "max     88.976200  100.000000   27.740000    1.000000    0.871000    8.780000   \n",
       "\n",
       "              AGE         DIS         RAD         TAX     PTRATIO           B  \\\n",
       "count  506.000000  506.000000  506.000000  506.000000  506.000000  506.000000   \n",
       "mean    68.574901    3.795043    9.549407  408.237154   18.455534  356.674032   \n",
       "std     28.148861    2.105710    8.707259  168.537116    2.164946   91.294864   \n",
       "min      2.900000    1.129600    1.000000  187.000000   12.600000    0.320000   \n",
       "25%     45.025000    2.100175    4.000000  279.000000   17.400000  375.377500   \n",
       "50%     77.500000    3.207450    5.000000  330.000000   19.050000  391.440000   \n",
       "75%     94.075000    5.188425   24.000000  666.000000   20.200000  396.225000   \n",
       "max    100.000000   12.126500   24.000000  711.000000   22.000000  396.900000   \n",
       "\n",
       "            LSTAT        MEDV  \n",
       "count  506.000000  506.000000  \n",
       "mean    12.653063   22.532806  \n",
       "std      7.141062    9.197104  \n",
       "min      1.730000    5.000000  \n",
       "25%      6.950000   17.025000  \n",
       "50%     11.360000   21.200000  \n",
       "75%     16.955000   25.000000  \n",
       "max     37.970000   50.000000  "
      ]
     },
     "execution_count": 8,
     "metadata": {},
     "output_type": "execute_result"
    }
   ],
   "source": [
    "boston_df.describe()"
   ]
  },
  {
   "cell_type": "code",
   "execution_count": 9,
   "metadata": {},
   "outputs": [
    {
     "name": "stdout",
     "output_type": "stream",
     "text": [
      "<class 'pandas.core.frame.DataFrame'>\n",
      "RangeIndex: 506 entries, 0 to 505\n",
      "Data columns (total 14 columns):\n",
      "CRIM       506 non-null float64\n",
      "ZN         506 non-null float64\n",
      "INDUS      506 non-null float64\n",
      "CHAS       506 non-null float64\n",
      "NOX        506 non-null float64\n",
      "RM         506 non-null float64\n",
      "AGE        506 non-null float64\n",
      "DIS        506 non-null float64\n",
      "RAD        506 non-null float64\n",
      "TAX        506 non-null float64\n",
      "PTRATIO    506 non-null float64\n",
      "B          506 non-null float64\n",
      "LSTAT      506 non-null float64\n",
      "MEDV       506 non-null float64\n",
      "dtypes: float64(14)\n",
      "memory usage: 55.4 KB\n"
     ]
    }
   ],
   "source": [
    "boston_df.info()"
   ]
  },
  {
   "cell_type": "markdown",
   "metadata": {},
   "source": [
    "Now, take a look at the scatter plots for each predictor with the target on the y-axis."
   ]
  },
  {
   "cell_type": "code",
   "execution_count": 10,
   "metadata": {},
   "outputs": [],
   "source": [
    "# create scatter plots\n",
    "import pandas as pd\n",
    "import matplotlib.pyplot as plt\n",
    "import seaborn as sns\n",
    "fig , axes = plt.subplots(nrows=3 , ncols=4, figsize=(25,15))\n",
    "for n,c in enumerate (boston_df.columns[0:12]):\n",
    "    row = n//4\n",
    "    col = n%4\n",
    "    ax = axes[row][col]\n",
    "    sns.scatterplot(y=boston_df[\"MEDV\"],x=boston_df[c],ax=ax)"
   ]
  },
  {
   "cell_type": "code",
   "execution_count": 11,
   "metadata": {},
   "outputs": [
    {
     "data": {
      "text/plain": [
       "<matplotlib.axes._subplots.AxesSubplot at 0x1a2627d4a8>"
      ]
     },
     "execution_count": 11,
     "metadata": {},
     "output_type": "execute_result"
    },
    {
     "data": {
      "image/png": "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\n",
      "text/plain": [
       "<Figure size 432x288 with 1 Axes>"
      ]
     },
     "metadata": {
      "needs_background": "light"
     },
     "output_type": "display_data"
    }
   ],
   "source": [
    "sns.scatterplot(y=boston_df[\"MEDV\"],x=boston_df[\"LSTAT\"])"
   ]
  },
  {
   "cell_type": "markdown",
   "metadata": {},
   "source": [
    "## To categorical: binning"
   ]
  },
  {
   "cell_type": "markdown",
   "metadata": {},
   "source": [
    "If you created your scatterplots correctly, you'll notice that except for CHAS (the Charles River Dummy variable), there is no clearly categorical data. You will have seen though that RAD and TAX have more of a vertical-looking structure like the one seen in the lesson, and that there is less of a \"cloud\"-looking structure compared to most other variables. It is difficult to justify a linear pattern between predictor and target here. In this situation, it might make sense to restructure data into bins so that they're treated as categorical variables. We'll start by showing how this can be done for RAD and then it's your turn to do this for TAX."
   ]
  },
  {
   "cell_type": "markdown",
   "metadata": {},
   "source": [
    "### \"RAD\""
   ]
  },
  {
   "cell_type": "markdown",
   "metadata": {},
   "source": [
    "Look at the structure of \"RAD\" to decide how to create your bins. "
   ]
  },
  {
   "cell_type": "code",
   "execution_count": 12,
   "metadata": {},
   "outputs": [
    {
     "data": {
      "text/plain": [
       "count    506.000000\n",
       "mean       9.549407\n",
       "std        8.707259\n",
       "min        1.000000\n",
       "25%        4.000000\n",
       "50%        5.000000\n",
       "75%       24.000000\n",
       "max       24.000000\n",
       "Name: RAD, dtype: float64"
      ]
     },
     "execution_count": 12,
     "metadata": {},
     "output_type": "execute_result"
    }
   ],
   "source": [
    "boston_df[\"RAD\"].describe()"
   ]
  },
  {
   "cell_type": "code",
   "execution_count": 13,
   "metadata": {},
   "outputs": [],
   "source": [
    "# first, create bins for based on the values observed. 5 values will result in 4 bins\n",
    "bins = [0, 3, 4 , 5, 24]\n",
    "# use pd.cut\n",
    "bins_rad = pd.cut(boston_df['RAD'], bins)"
   ]
  },
  {
   "cell_type": "code",
   "execution_count": 14,
   "metadata": {},
   "outputs": [
    {
     "data": {
      "text/plain": [
       "0    (0, 3]\n",
       "1    (0, 3]\n",
       "2    (0, 3]\n",
       "3    (0, 3]\n",
       "4    (0, 3]\n",
       "Name: RAD, dtype: category\n",
       "Categories (4, interval[int64]): [(0, 3], (3, 4], (4, 5], (5, 24]]"
      ]
     },
     "execution_count": 14,
     "metadata": {},
     "output_type": "execute_result"
    }
   ],
   "source": [
    "# using pd.cut returns unordered categories. Transform this to ordered categories.\n",
    "bins_rad = bins_rad.cat.as_unordered()\n",
    "bins_rad.head()"
   ]
  },
  {
   "cell_type": "code",
   "execution_count": 15,
   "metadata": {},
   "outputs": [
    {
     "data": {
      "text/plain": [
       "<matplotlib.axes._subplots.AxesSubplot at 0x1a253050b8>"
      ]
     },
     "execution_count": 15,
     "metadata": {},
     "output_type": "execute_result"
    },
    {
     "data": {
      "image/png": "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\n",
      "text/plain": [
       "<Figure size 432x288 with 1 Axes>"
      ]
     },
     "metadata": {
      "needs_background": "light"
     },
     "output_type": "display_data"
    }
   ],
   "source": [
    "# inspect the result\n",
    "bins_rad.value_counts().plot(kind='bar')"
   ]
  },
  {
   "cell_type": "code",
   "execution_count": 16,
   "metadata": {},
   "outputs": [],
   "source": [
    "# replace the existing \"RAD\" column\n",
    "boston_df[\"RAD\"]=bins_rad"
   ]
  },
  {
   "cell_type": "markdown",
   "metadata": {},
   "source": [
    "### \"TAX\""
   ]
  },
  {
   "cell_type": "markdown",
   "metadata": {},
   "source": [
    "Split the \"TAX\" column up in 5 categories. You can chose the bins as desired but make sure they're pretty well-balanced."
   ]
  },
  {
   "cell_type": "code",
   "execution_count": 17,
   "metadata": {},
   "outputs": [
    {
     "data": {
      "text/plain": [
       "<matplotlib.axes._subplots.AxesSubplot at 0x1a26418ba8>"
      ]
     },
     "execution_count": 17,
     "metadata": {},
     "output_type": "execute_result"
    },
    {
     "data": {
      "image/png": "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\n",
      "text/plain": [
       "<Figure size 432x288 with 1 Axes>"
      ]
     },
     "metadata": {
      "needs_background": "light"
     },
     "output_type": "display_data"
    }
   ],
   "source": [
    "sns.scatterplot(y=boston_df[\"MEDV\"],x=boston_df[\"TAX\"])"
   ]
  },
  {
   "cell_type": "code",
   "execution_count": 18,
   "metadata": {},
   "outputs": [
    {
     "data": {
      "text/plain": [
       "count    506.000000\n",
       "mean     408.237154\n",
       "std      168.537116\n",
       "min      187.000000\n",
       "25%      279.000000\n",
       "50%      330.000000\n",
       "75%      666.000000\n",
       "max      711.000000\n",
       "Name: TAX, dtype: float64"
      ]
     },
     "execution_count": 18,
     "metadata": {},
     "output_type": "execute_result"
    }
   ],
   "source": [
    "# repeat everything for \"TAX\"\n",
    "boston_df[\"TAX\"].describe()"
   ]
  },
  {
   "cell_type": "markdown",
   "metadata": {},
   "source": [
    "## Perform label encoding "
   ]
  },
  {
   "cell_type": "code",
   "execution_count": 19,
   "metadata": {},
   "outputs": [],
   "source": [
    "# perform label encoding and replace in boston_df\n",
    "bins = [0, 250, 290 , 320, 400, 600]\n",
    "# use pd.cut\n",
    "bins_tax = pd.cut(boston_df['TAX'], bins)\n",
    "bins_tax = bins_tax.cat.as_unordered()"
   ]
  },
  {
   "cell_type": "code",
   "execution_count": 20,
   "metadata": {},
   "outputs": [
    {
     "data": {
      "text/plain": [
       "<matplotlib.axes._subplots.AxesSubplot at 0x1a2650d6a0>"
      ]
     },
     "execution_count": 20,
     "metadata": {},
     "output_type": "execute_result"
    },
    {
     "data": {
      "image/png": "iVBORw0KGgoAAAANSUhEUgAAAXQAAAEmCAYAAAByJWuvAAAABHNCSVQICAgIfAhkiAAAAAlwSFlzAAALEgAACxIB0t1+/AAAADl0RVh0U29mdHdhcmUAbWF0cGxvdGxpYiB2ZXJzaW9uIDMuMC4zLCBodHRwOi8vbWF0cGxvdGxpYi5vcmcvnQurowAAFbNJREFUeJzt3XuUZWV95vHvYzeIGrm3BGlIo+ItV7QlzGgSQ8cBQxRGJdE4odHOwsSReFtG1MwilzEjrmRk4igTlsTVmBh10CVEjeAFTFwrErqhkWCHiwS52EAzAeOKIo385o+9u6u6qO463V11dtd7vp+1WH3OPvtQv3pr11P7vPvd75uqQpK0+D1m6AIkSfPDQJekRhjoktQIA12SGmGgS1IjDHRJaoSBLkmNMNAlqREGuiQ1Yuk4v9ihhx5aK1asGOeXlKRFb/369fdV1bK59htroK9YsYJ169aN80tK0qKX5Fuj7GeXiyQ1wkCXpEYY6JLUCANdkhphoEtSIwx0SWqEgS5JjTDQJakRBrokNWKsd4rOhxVnf3boErjtPScPXYIkPYpn6JLUiEV3hq4pflqRNJ1n6JLUCANdkhphoEtSIwx0SWqEgS5JjTDQJakRBrokNcJAl6RGjBToSd6c5IYk/5Tkr5Psl+ToJFcluTnJx5Psu9DFSpJ2bM5AT3IE8DvAyqr6CWAJ8ErgXOB9VXUMcD+wZiELlSTt3KhdLkuBxyVZCjwe2AScAFzcv74WOHX+y5MkjWrOQK+qu4A/AW6nC/LvAOuBB6rq4X63O4EjZnt/kjOTrEuybvPmzfNTtSTpUUbpcjkIOAU4Gngy8ATgxbPsWrO9v6ouqKqVVbVy2bJle1KrJGknRuly+SXgX6pqc1VtAT4F/EfgwL4LBmA58O0FqlGSNIJRAv124Pgkj08SYBXwDeAK4BX9PquBSxamREnSKEbpQ7+K7uLnNcD1/XsuAN4OvCXJLcAhwIULWKckaQ4jLXBRVecA58zYfCtw3LxXJEnaLd4pKkmNMNAlqREGuiQ1wkCXpEYY6JLUCANdkhphoEtSIwx0SWqEgS5JjTDQJakRBrokNcJAl6RGGOiS1AgDXZIaYaBLUiMMdElqhIEuSY0w0CWpEQa6JDXCQJekRhjoktSIpUMXIO2pFWd/dugSALjtPScPXYImnGfoktQIA12SGmGgS1IjDHRJaoSBLkmNMNAlqREOW5Qa4hDOyeYZuiQ1wkCXpEYY6JLUCANdkhphoEtSIwx0SWqEwxYlNWkSh3B6hi5JjTDQJakRBrokNWKkQE9yYJKLk/xzko1J/kOSg5N8IcnN/b8HLXSxkqQdG/UM/X8Bn6+qZwI/DWwEzga+VFXHAF/qn0uSBjJnoCfZH/h54EKAqnqoqh4ATgHW9rutBU5dqCIlSXMb5Qz9KcBm4MNJrk3yoSRPAA6rqk0A/b9Pmu3NSc5Msi7Jus2bN89b4ZKk7Y0S6EuB5wDnV9WxwL+zC90rVXVBVa2sqpXLli3bzTIlSXMZJdDvBO6sqqv65xfTBfw9SQ4H6P+9d2FKlCSNYs5Ar6q7gTuSPKPftAr4BnApsLrfthq4ZEEqlCSNZNRb/88C/irJvsCtwGvo/hh8Iska4HbgtIUpUZI0ipECvao2ACtneWnV/JYjSdpd3ikqSY0w0CWpEQa6JDXCQJekRhjoktQIA12SGmGgS1IjDHRJaoSBLkmNMNAlqREGuiQ1wkCXpEYY6JLUCANdkhphoEtSIwx0SWqEgS5JjTDQJakRBrokNcJAl6RGGOiS1AgDXZIaYaBLUiMMdElqhIEuSY0w0CWpEQa6JDXCQJekRhjoktQIA12SGmGgS1IjDHRJaoSBLkmNMNAlqREGuiQ1wkCXpEYY6JLUCANdkhphoEtSI0YO9CRLklyb5DP986OTXJXk5iQfT7LvwpUpSZrLrpyhvxHYOO35ucD7quoY4H5gzXwWJknaNSMFepLlwMnAh/rnAU4ALu53WQucuhAFSpJGM+oZ+nnA7wKP9M8PAR6oqof753cCR8z2xiRnJlmXZN3mzZv3qFhJ0o7NGehJfgW4t6rWT988y6412/ur6oKqWllVK5ctW7abZUqS5rJ0hH2eD7w0yS8D+wH7052xH5hkaX+Wvhz49sKVKUmay5xn6FX1jqpaXlUrgFcCX66qVwNXAK/od1sNXLJgVUqS5rQn49DfDrwlyS10feoXzk9JkqTdMUqXyzZVdSVwZf/4VuC4+S9JkrQ7vFNUkhphoEtSIwx0SWqEgS5JjTDQJakRBrokNcJAl6RGGOiS1AgDXZIaYaBLUiMMdElqhIEuSY0w0CWpEQa6JDXCQJekRhjoktQIA12SGmGgS1IjDHRJaoSBLkmNMNAlqREGuiQ1wkCXpEYY6JLUCANdkhphoEtSIwx0SWqEgS5JjTDQJakRBrokNcJAl6RGGOiS1AgDXZIaYaBLUiMMdElqhIEuSY0w0CWpEQa6JDXCQJekRswZ6EmOTHJFko1Jbkjyxn77wUm+kOTm/t+DFr5cSdKOjHKG/jDw1qp6FnA88F+TPBs4G/hSVR0DfKl/LkkayJyBXlWbquqa/vF3gY3AEcApwNp+t7XAqQtVpCRpbrvUh55kBXAscBVwWFVtgi70gSfNd3GSpNGNHOhJfgT4JPCmqvq3XXjfmUnWJVm3efPm3alRkjSCkQI9yT50Yf5XVfWpfvM9SQ7vXz8cuHe291bVBVW1sqpWLlu2bD5qliTNYpRRLgEuBDZW1f+c9tKlwOr+8WrgkvkvT5I0qqUj7PN84DeA65Ns6Le9E3gP8Ikka4DbgdMWpkRJ0ijmDPSq+iqQHby8an7LkSTtLu8UlaRGGOiS1AgDXZIaYaBLUiMMdElqhIEuSY0w0CWpEQa6JDXCQJekRhjoktQIA12SGmGgS1IjDHRJaoSBLkmNMNAlqREGuiQ1wkCXpEYY6JLUCANdkhphoEtSIwx0SWqEgS5JjTDQJakRBrokNcJAl6RGGOiS1AgDXZIaYaBLUiMMdElqhIEuSY0w0CWpEQa6JDXCQJekRhjoktQIA12SGmGgS1IjDHRJaoSBLkmNMNAlqRF7FOhJTkpyY5Jbkpw9X0VJknbdbgd6kiXAB4AXA88GXpXk2fNVmCRp1+zJGfpxwC1VdWtVPQR8DDhlfsqSJO2qPQn0I4A7pj2/s98mSRpAqmr33picBpxYVb/ZP/8N4LiqOmvGfmcCZ/ZPnwHcuPvlzotDgfsGrmFvYVtMsS2m2BZT9pa2+LGqWjbXTkv34AvcCRw57fly4Nszd6qqC4AL9uDrzKsk66pq5dB17A1siym2xRTbYspia4s96XK5GjgmydFJ9gVeCVw6P2VJknbVbp+hV9XDSd4AXAYsAf6iqm6Yt8okSbtkT7pcqKrPAZ+bp1rGZa/p/tkL2BZTbIsptsWURdUWu31RVJK0d/HWf0lqhIEuSY3Yoz70vV2Sg0fY7ZGqemDBixlYkueMsNuWqrp+wYsZWJK3jLDbv1fVny94MdI8aroPPcmDdGPjs5PdllTVUWMqaTBJvks31HRnbXF0Va0YT0XDSbIJOJ+dt8Wrq+rpYyppMEm+PsJum6tq1YIXM7AW2qLpM3RgY1Udu7Mdklw7rmIGdnVVnbCzHZJ8eVzFDOwjVfWHO9shyRPGVczAlgC/vJPXw+TcX7Lo26L1M/T9qurBPd1HalWSF1TVV/d0nxa00BZNBzpAktDNDHkEUHRdMP9YrX/js0hyAHAS27fFZZNwDWGmJCcCp7J9W1xSVZ8ftLAB9decqqruH7qWoS3Wtmg60JP8J+CDwM3AXf3m5cDTgNdX1eVD1TZuSU4HzgEuZ/u2eBHwB1V10VC1jVuS84CnAxfRzUkEXVucDtxcVW8cqrZxS3IU8F5gFfAAXbfC/sCXgbOr6rbhqhuvFtqi9UDfCLx45g8iydHA56rqWYMUNoAkNwI/O/NsPMlBwFWTcAFwqyQ3zfb99p/mbqqqYwYoaxBJ/gE4D7i4qn7Yb1sCnAa8qaqOH7K+cWqhLVofh76UqTOw6e4C9hlzLUMLXdfCTI+w89EeLXowyXGzbH8eMGnXUw6tqo9vDTCAqvphVX0MOGTAuoaw6Nui9VEufwFcneRjTC3GcSTdzJAXDlbVMN4NXJPkcqba4ii6Lpc/GqyqYZwBnJ/kiUz9wT8S+Lf+tUmyPskHgbVs/zuyGpiUEWBbLfq2aLrLBaBf5/SldBe/QvcLfGlVfWPQwgbQd6+cyPZtcdliu/AzX5L8KNPaoqruHrikseunvl5Dt3zkdr8jwIVV9YMByxurFtqi+UDXo/XB/nBVfXfoWvYGSX6E7iLprZM44kftaLoPPcn+Sf5Hko8kedWM1z44VF1DSPLkJBcl+Q7dklo3JLk9ye8nmajrCdN/9kleAHwD+FPg+iQ7u7GkOUmWJnldkr9N8vUk1/WPf2sCj4tF3xZNn6En+STdkMWvAa8FtgC/XlU/SHJNVY0yv0kT+rtA/7CqrkzyMuDngN8D3gE8qarO3On/oCHTf/ZJrgDeWlXXJHkK8InFtOTYnkry13RD9Nay/RDO1cDBVfVrQ9U2bi20ReuBvqGqfmba83fR3dr7UuALExbo11XVT097vr6qnts//ueqeuZw1Y3XjEDf1g7982vnmi6iJUlurKpn7OC1WYd3tqqFtmi6ywV4bJJt32NVvZtuBZK/Y5EMQ5pHm5P8l77r5SzgNtg29rr142CmZ/Yfqa8Hnt5fU6A/VhbFR+t5dH+S06b/niR5TJJfAybtYvmib4vWz9DfC1xeVV+csf0k4P0TdgPJUcCfAM8GNgBvq6pNSQ4BXlhVnxy0wDFK8mMzNn27qrYkORT4+ar61BB1DSHJCuBc4ASmQusgpu6O/JdhKhu/WdoiwIEsorZoOtAlja7/456qum/oWoa2WNui6Y/a6fxq/zEqSVYl+bMkr5/+sWpSJDkxyZqZZ6hJXjtUTUOYMfrp12e8NlGjn6arqv9XVfclmZh5faZLclSS/fqn/wq8JMn7k/x2kkVxE2bTZ+j9L+eTgH3p7gJ8LPA3dBdG75mwSZj+GHgBcA3wEuC8qnp//9qkjfhx9FMvycz5vQP8Il03A1X10rEXNZAk/wQcV1XfS3Iu8FTg03RdMFTVXn/isyj+6uyBn6uqn+zHkN4NHF5VDyX5KIvkVt559BLg2Kp6OMnvAx9N8pSqejOTN5fLU6vq5f3jT/ejn76cZGLCa5rldOPwP0Q310+AlXTj8ifNY6rqe/3jXwKeV1WPAH+Z5LoB6xpZ690ODwNU1Ra6FXse6p8/DPxwZ29s0NL++6a/G/IlwP5J/i/dJ5hJ4uinKSuB9cC7gO9U1ZXA96vqK1X1lUErG787kmxd1es2unlctvanLwqtB/rd/W3dVNVJWzemm8PjocGqGsY3k/zC1if9LHJrgBuBiZlGuPc39B+jt6qqtcBbmbDjoqoeqar3Aa8B3pXkf9P+J/cd+U3gvyX5O7qTnA39DXlfBEZZWHxwTfeh70i69SKfUFX3Dl3LuCR5HEBVfX+W146oqrse/S5NmiQnA8+vqncOXctQkjyLbm6frdNvX913vez1JjLQJalFrXe5SNLEMNAlqREGutRLsjLJEUPXIe2uiQz0JBv7/94wdC1Dsy22cxbwmSQfH7qQoSX5Yj8X+K8MXcvQkqxNcn6Snxi6lrlM7EXRfmzp8VX12aFrGZptsb0kT5z01ZySPBk4nO64+MDQ9QwpyfPo1t89rqrePnQ9OzMRgZ7kMLo1AotuZr17Bi5pMLZFJ8kBwElMawu69VUndgm6JAcDNalrzLag6UBP8jPA/wEOALaOs15OtyrJ66vqmqFqGzfbYkqS04FzgMvZvi1eBPxBVU3M5FT9tMrvBVbRHQsB9mdqytjbhqtuvPo/8u8ATgWW9ZvvBS4B3rMY/ti3HugbgNdV1VUzth8P/Pn0FXxaZ1tMSXIj8LMzf0H7hS6uWgwr08yXJP8AnAdcXFU/7LctAU4D3lRVxw9Z3zgluYzuD9naqrq73/ajwBnAqqp60YDljaT1QL95R4tYJLmlqp427pqGYltMSXIT3cRL35mx/QBg3YQtfLKz42KHr7UoO1+Cboev7U1an7Phb5N8FrgIuKPfdiRwOvD5waoahm0x5d3ANUkuZ6otjqLrcvmjwaoaxvp+mum1bH9crGbyZiT9VpLfpTtDvwe2XXM6g6m22as1fYYOkOTFwCl0F79CNzfDpVX1uUELG4BtMaXvXjmR7dviskm7IJhkX2AN2x8Xd9BNYHZhVf1gwPLGqj8mzqZri8P6zXcDlwLnVtW/DlXbqJoPdGmmJKk5DvxR9pH2Nk3fWJRuxe7XJPlMkuuSrE/ysSQvHLq2cUvyU9Me75Pk95JcmuSPkzx+yNoGcEWSs/oRHtsk2TfJCUnW0nU5TIS4NOE2fVuc3/9uXNI/Pmnud+4dmj5DT/Jh4Ft08xm/gm4Zur8H3g5csnUJtkkwfWm1JH9Kt5DDh+mGaB1SVacPWd84pVs38rXAq4Gj6YbrPY7uBOdy4ANVtWG4CsfHpQmnJDmPbtrci+i64KAbzno6cPNiWLKy9UD/elVNPzP9WlUdn+SxwIaqmpiFHZJcW1XH9o830I3y2JIkwHXT22mSpFue8FC6VXr2+nHG8y3J9UwtTXgg8FHgxqp68/RjZhIkuWm2Iav978hNi2HET9NdLsCWJE8FSPIc+tVo+gs97f4lm90BSf5zkpcDj+2X5aPvJ560ttimqrZU1aZJDPOeSxNOeTDJcbNsfx7w4LiL2R2tD1t8G11/6YPAPsArAZIsAz4zZGED+AqwdRHkryU5rKru6W+cuG/AujSsbyb5ha3rh/Y3F61J8t+Bl+/8rc05Azg/yROZ6nI5kq6r9oyBatolTXe5wLaPS4dUlaElzRCXJnyU/iRn23DWrXeNLgatd7kAPJFu/pLtTB/1MSmS7L+1C2rG9olrC3X6ID+gDzGSLEvysiQ/PolhDlBVd1fV+qpaB/zO0PXsiqbP0JP8Kt08FffSdbmcUVVX969N2hV820KPkuR1dDfTBDiXrmvhBuD5wHur6sLhqhuvJH82y+bT6Ua9UFV7fbi33of+TuC5VbWpv9jxkSTvrKpP0R3Ak8S20GzeAPw43bDNbwFPq6q7+7smrwAmJtCBlwFX0g1d3fo78Spg/VAF7arWA31JVW0CqKp/TPKLdCvSLGfyRnbYFprNlqr6HvC9JN/c2l9cVfcnmbTj4ll0c/mcBLytqu5Kck5VrR24rpG1HujfTfLUqvomQH92+kLg03RnJZPEttBsHkmyTz+M9eStG/ubrybhGts2/SpVb0ryXOAv+8nsFlUbLKpid8NvM+N77H9oJ9HdKThJbAvN5mX0n9Cq6s5p2w8B3jpIRQOrqvXACcD3ga8OXM4uaf2iqJMw9WwLzcbjYkoLbdH6GbqTME2xLTQbj4spi74tWj9Dn20Spv2AJUzeJEy2hR7F42JKC5O2NR3o0036JEzT2RaajcfFlMXaFhMT6JLUutb70CVpYhjoktQIA12SGmGgS1IjDHRJasT/B4peaAXzA5lfAAAAAElFTkSuQmCC\n",
      "text/plain": [
       "<Figure size 432x288 with 1 Axes>"
      ]
     },
     "metadata": {
      "needs_background": "light"
     },
     "output_type": "display_data"
    }
   ],
   "source": [
    "# inspect first few columns\n",
    "bins_tax.value_counts().plot(kind='bar')"
   ]
  },
  {
   "cell_type": "markdown",
   "metadata": {},
   "source": [
    "## Create dummy variables"
   ]
  },
  {
   "cell_type": "markdown",
   "metadata": {},
   "source": [
    "Create dummy variables, and make sure their column names contain \"TAX\" and \"RAD\". Add the new dummy variables to boston_df and remove the old \"RAD\" and \"TAX\" columns."
   ]
  },
  {
   "cell_type": "code",
   "execution_count": 21,
   "metadata": {},
   "outputs": [
    {
     "data": {
      "text/html": [
       "<div>\n",
       "<style scoped>\n",
       "    .dataframe tbody tr th:only-of-type {\n",
       "        vertical-align: middle;\n",
       "    }\n",
       "\n",
       "    .dataframe tbody tr th {\n",
       "        vertical-align: top;\n",
       "    }\n",
       "\n",
       "    .dataframe thead th {\n",
       "        text-align: right;\n",
       "    }\n",
       "</style>\n",
       "<table border=\"1\" class=\"dataframe\">\n",
       "  <thead>\n",
       "    <tr style=\"text-align: right;\">\n",
       "      <th></th>\n",
       "      <th>CRIM</th>\n",
       "      <th>ZN</th>\n",
       "      <th>INDUS</th>\n",
       "      <th>CHAS</th>\n",
       "      <th>NOX</th>\n",
       "      <th>RM</th>\n",
       "      <th>AGE</th>\n",
       "      <th>DIS</th>\n",
       "      <th>RAD</th>\n",
       "      <th>TAX</th>\n",
       "      <th>...</th>\n",
       "      <th>MEDV</th>\n",
       "      <th>rad_(0, 3]</th>\n",
       "      <th>rad_(3, 4]</th>\n",
       "      <th>rad_(4, 5]</th>\n",
       "      <th>rad_(5, 24]</th>\n",
       "      <th>TAX_(0, 250]</th>\n",
       "      <th>TAX_(250, 290]</th>\n",
       "      <th>TAX_(290, 320]</th>\n",
       "      <th>TAX_(320, 400]</th>\n",
       "      <th>TAX_(400, 600]</th>\n",
       "    </tr>\n",
       "  </thead>\n",
       "  <tbody>\n",
       "    <tr>\n",
       "      <th>0</th>\n",
       "      <td>0.00632</td>\n",
       "      <td>18.0</td>\n",
       "      <td>2.31</td>\n",
       "      <td>0.0</td>\n",
       "      <td>0.538</td>\n",
       "      <td>6.575</td>\n",
       "      <td>65.2</td>\n",
       "      <td>4.0900</td>\n",
       "      <td>(0, 3]</td>\n",
       "      <td>296.0</td>\n",
       "      <td>...</td>\n",
       "      <td>24.0</td>\n",
       "      <td>1</td>\n",
       "      <td>0</td>\n",
       "      <td>0</td>\n",
       "      <td>0</td>\n",
       "      <td>0</td>\n",
       "      <td>0</td>\n",
       "      <td>1</td>\n",
       "      <td>0</td>\n",
       "      <td>0</td>\n",
       "    </tr>\n",
       "    <tr>\n",
       "      <th>1</th>\n",
       "      <td>0.02731</td>\n",
       "      <td>0.0</td>\n",
       "      <td>7.07</td>\n",
       "      <td>0.0</td>\n",
       "      <td>0.469</td>\n",
       "      <td>6.421</td>\n",
       "      <td>78.9</td>\n",
       "      <td>4.9671</td>\n",
       "      <td>(0, 3]</td>\n",
       "      <td>242.0</td>\n",
       "      <td>...</td>\n",
       "      <td>21.6</td>\n",
       "      <td>1</td>\n",
       "      <td>0</td>\n",
       "      <td>0</td>\n",
       "      <td>0</td>\n",
       "      <td>1</td>\n",
       "      <td>0</td>\n",
       "      <td>0</td>\n",
       "      <td>0</td>\n",
       "      <td>0</td>\n",
       "    </tr>\n",
       "    <tr>\n",
       "      <th>2</th>\n",
       "      <td>0.02729</td>\n",
       "      <td>0.0</td>\n",
       "      <td>7.07</td>\n",
       "      <td>0.0</td>\n",
       "      <td>0.469</td>\n",
       "      <td>7.185</td>\n",
       "      <td>61.1</td>\n",
       "      <td>4.9671</td>\n",
       "      <td>(0, 3]</td>\n",
       "      <td>242.0</td>\n",
       "      <td>...</td>\n",
       "      <td>34.7</td>\n",
       "      <td>1</td>\n",
       "      <td>0</td>\n",
       "      <td>0</td>\n",
       "      <td>0</td>\n",
       "      <td>1</td>\n",
       "      <td>0</td>\n",
       "      <td>0</td>\n",
       "      <td>0</td>\n",
       "      <td>0</td>\n",
       "    </tr>\n",
       "    <tr>\n",
       "      <th>3</th>\n",
       "      <td>0.03237</td>\n",
       "      <td>0.0</td>\n",
       "      <td>2.18</td>\n",
       "      <td>0.0</td>\n",
       "      <td>0.458</td>\n",
       "      <td>6.998</td>\n",
       "      <td>45.8</td>\n",
       "      <td>6.0622</td>\n",
       "      <td>(0, 3]</td>\n",
       "      <td>222.0</td>\n",
       "      <td>...</td>\n",
       "      <td>33.4</td>\n",
       "      <td>1</td>\n",
       "      <td>0</td>\n",
       "      <td>0</td>\n",
       "      <td>0</td>\n",
       "      <td>1</td>\n",
       "      <td>0</td>\n",
       "      <td>0</td>\n",
       "      <td>0</td>\n",
       "      <td>0</td>\n",
       "    </tr>\n",
       "    <tr>\n",
       "      <th>4</th>\n",
       "      <td>0.06905</td>\n",
       "      <td>0.0</td>\n",
       "      <td>2.18</td>\n",
       "      <td>0.0</td>\n",
       "      <td>0.458</td>\n",
       "      <td>7.147</td>\n",
       "      <td>54.2</td>\n",
       "      <td>6.0622</td>\n",
       "      <td>(0, 3]</td>\n",
       "      <td>222.0</td>\n",
       "      <td>...</td>\n",
       "      <td>36.2</td>\n",
       "      <td>1</td>\n",
       "      <td>0</td>\n",
       "      <td>0</td>\n",
       "      <td>0</td>\n",
       "      <td>1</td>\n",
       "      <td>0</td>\n",
       "      <td>0</td>\n",
       "      <td>0</td>\n",
       "      <td>0</td>\n",
       "    </tr>\n",
       "  </tbody>\n",
       "</table>\n",
       "<p>5 rows × 23 columns</p>\n",
       "</div>"
      ],
      "text/plain": [
       "      CRIM    ZN  INDUS  CHAS    NOX     RM   AGE     DIS     RAD    TAX  ...  \\\n",
       "0  0.00632  18.0   2.31   0.0  0.538  6.575  65.2  4.0900  (0, 3]  296.0  ...   \n",
       "1  0.02731   0.0   7.07   0.0  0.469  6.421  78.9  4.9671  (0, 3]  242.0  ...   \n",
       "2  0.02729   0.0   7.07   0.0  0.469  7.185  61.1  4.9671  (0, 3]  242.0  ...   \n",
       "3  0.03237   0.0   2.18   0.0  0.458  6.998  45.8  6.0622  (0, 3]  222.0  ...   \n",
       "4  0.06905   0.0   2.18   0.0  0.458  7.147  54.2  6.0622  (0, 3]  222.0  ...   \n",
       "\n",
       "   MEDV  rad_(0, 3]  rad_(3, 4]  rad_(4, 5]  rad_(5, 24]  TAX_(0, 250]  \\\n",
       "0  24.0           1           0           0            0             0   \n",
       "1  21.6           1           0           0            0             1   \n",
       "2  34.7           1           0           0            0             1   \n",
       "3  33.4           1           0           0            0             1   \n",
       "4  36.2           1           0           0            0             1   \n",
       "\n",
       "   TAX_(250, 290]  TAX_(290, 320]  TAX_(320, 400]  TAX_(400, 600]  \n",
       "0               0               1               0               0  \n",
       "1               0               0               0               0  \n",
       "2               0               0               0               0  \n",
       "3               0               0               0               0  \n",
       "4               0               0               0               0  \n",
       "\n",
       "[5 rows x 23 columns]"
      ]
     },
     "execution_count": 21,
     "metadata": {},
     "output_type": "execute_result"
    }
   ],
   "source": [
    "# code goes here\n",
    "rad_dummies = pd.get_dummies(bins_rad, prefix=\"rad\")\n",
    "tax_dummies = pd.get_dummies(bins_tax, prefix=\"TAX\") #boston_df[\"TAX\"]\n",
    "boston_df = pd.concat([boston_df, rad_dummies, tax_dummies], axis=1)\n",
    "boston_df.head()"
   ]
  },
  {
   "cell_type": "code",
   "execution_count": 23,
   "metadata": {},
   "outputs": [
    {
     "data": {
      "text/html": [
       "<div>\n",
       "<style scoped>\n",
       "    .dataframe tbody tr th:only-of-type {\n",
       "        vertical-align: middle;\n",
       "    }\n",
       "\n",
       "    .dataframe tbody tr th {\n",
       "        vertical-align: top;\n",
       "    }\n",
       "\n",
       "    .dataframe thead th {\n",
       "        text-align: right;\n",
       "    }\n",
       "</style>\n",
       "<table border=\"1\" class=\"dataframe\">\n",
       "  <thead>\n",
       "    <tr style=\"text-align: right;\">\n",
       "      <th></th>\n",
       "      <th>CRIM</th>\n",
       "      <th>ZN</th>\n",
       "      <th>INDUS</th>\n",
       "      <th>CHAS</th>\n",
       "      <th>NOX</th>\n",
       "      <th>RM</th>\n",
       "      <th>AGE</th>\n",
       "      <th>DIS</th>\n",
       "      <th>PTRATIO</th>\n",
       "      <th>B</th>\n",
       "      <th>...</th>\n",
       "      <th>MEDV</th>\n",
       "      <th>rad_(0, 3]</th>\n",
       "      <th>rad_(3, 4]</th>\n",
       "      <th>rad_(4, 5]</th>\n",
       "      <th>rad_(5, 24]</th>\n",
       "      <th>TAX_(0, 250]</th>\n",
       "      <th>TAX_(250, 290]</th>\n",
       "      <th>TAX_(290, 320]</th>\n",
       "      <th>TAX_(320, 400]</th>\n",
       "      <th>TAX_(400, 600]</th>\n",
       "    </tr>\n",
       "  </thead>\n",
       "  <tbody>\n",
       "    <tr>\n",
       "      <th>0</th>\n",
       "      <td>0.00632</td>\n",
       "      <td>18.0</td>\n",
       "      <td>2.31</td>\n",
       "      <td>0.0</td>\n",
       "      <td>0.538</td>\n",
       "      <td>6.575</td>\n",
       "      <td>65.2</td>\n",
       "      <td>4.0900</td>\n",
       "      <td>15.3</td>\n",
       "      <td>396.90</td>\n",
       "      <td>...</td>\n",
       "      <td>24.0</td>\n",
       "      <td>1</td>\n",
       "      <td>0</td>\n",
       "      <td>0</td>\n",
       "      <td>0</td>\n",
       "      <td>0</td>\n",
       "      <td>0</td>\n",
       "      <td>1</td>\n",
       "      <td>0</td>\n",
       "      <td>0</td>\n",
       "    </tr>\n",
       "    <tr>\n",
       "      <th>1</th>\n",
       "      <td>0.02731</td>\n",
       "      <td>0.0</td>\n",
       "      <td>7.07</td>\n",
       "      <td>0.0</td>\n",
       "      <td>0.469</td>\n",
       "      <td>6.421</td>\n",
       "      <td>78.9</td>\n",
       "      <td>4.9671</td>\n",
       "      <td>17.8</td>\n",
       "      <td>396.90</td>\n",
       "      <td>...</td>\n",
       "      <td>21.6</td>\n",
       "      <td>1</td>\n",
       "      <td>0</td>\n",
       "      <td>0</td>\n",
       "      <td>0</td>\n",
       "      <td>1</td>\n",
       "      <td>0</td>\n",
       "      <td>0</td>\n",
       "      <td>0</td>\n",
       "      <td>0</td>\n",
       "    </tr>\n",
       "    <tr>\n",
       "      <th>2</th>\n",
       "      <td>0.02729</td>\n",
       "      <td>0.0</td>\n",
       "      <td>7.07</td>\n",
       "      <td>0.0</td>\n",
       "      <td>0.469</td>\n",
       "      <td>7.185</td>\n",
       "      <td>61.1</td>\n",
       "      <td>4.9671</td>\n",
       "      <td>17.8</td>\n",
       "      <td>392.83</td>\n",
       "      <td>...</td>\n",
       "      <td>34.7</td>\n",
       "      <td>1</td>\n",
       "      <td>0</td>\n",
       "      <td>0</td>\n",
       "      <td>0</td>\n",
       "      <td>1</td>\n",
       "      <td>0</td>\n",
       "      <td>0</td>\n",
       "      <td>0</td>\n",
       "      <td>0</td>\n",
       "    </tr>\n",
       "    <tr>\n",
       "      <th>3</th>\n",
       "      <td>0.03237</td>\n",
       "      <td>0.0</td>\n",
       "      <td>2.18</td>\n",
       "      <td>0.0</td>\n",
       "      <td>0.458</td>\n",
       "      <td>6.998</td>\n",
       "      <td>45.8</td>\n",
       "      <td>6.0622</td>\n",
       "      <td>18.7</td>\n",
       "      <td>394.63</td>\n",
       "      <td>...</td>\n",
       "      <td>33.4</td>\n",
       "      <td>1</td>\n",
       "      <td>0</td>\n",
       "      <td>0</td>\n",
       "      <td>0</td>\n",
       "      <td>1</td>\n",
       "      <td>0</td>\n",
       "      <td>0</td>\n",
       "      <td>0</td>\n",
       "      <td>0</td>\n",
       "    </tr>\n",
       "    <tr>\n",
       "      <th>4</th>\n",
       "      <td>0.06905</td>\n",
       "      <td>0.0</td>\n",
       "      <td>2.18</td>\n",
       "      <td>0.0</td>\n",
       "      <td>0.458</td>\n",
       "      <td>7.147</td>\n",
       "      <td>54.2</td>\n",
       "      <td>6.0622</td>\n",
       "      <td>18.7</td>\n",
       "      <td>396.90</td>\n",
       "      <td>...</td>\n",
       "      <td>36.2</td>\n",
       "      <td>1</td>\n",
       "      <td>0</td>\n",
       "      <td>0</td>\n",
       "      <td>0</td>\n",
       "      <td>1</td>\n",
       "      <td>0</td>\n",
       "      <td>0</td>\n",
       "      <td>0</td>\n",
       "      <td>0</td>\n",
       "    </tr>\n",
       "  </tbody>\n",
       "</table>\n",
       "<p>5 rows × 21 columns</p>\n",
       "</div>"
      ],
      "text/plain": [
       "      CRIM    ZN  INDUS  CHAS    NOX     RM   AGE     DIS  PTRATIO       B  \\\n",
       "0  0.00632  18.0   2.31   0.0  0.538  6.575  65.2  4.0900     15.3  396.90   \n",
       "1  0.02731   0.0   7.07   0.0  0.469  6.421  78.9  4.9671     17.8  396.90   \n",
       "2  0.02729   0.0   7.07   0.0  0.469  7.185  61.1  4.9671     17.8  392.83   \n",
       "3  0.03237   0.0   2.18   0.0  0.458  6.998  45.8  6.0622     18.7  394.63   \n",
       "4  0.06905   0.0   2.18   0.0  0.458  7.147  54.2  6.0622     18.7  396.90   \n",
       "\n",
       "   ...  MEDV  rad_(0, 3]  rad_(3, 4]  rad_(4, 5]  rad_(5, 24]  TAX_(0, 250]  \\\n",
       "0  ...  24.0           1           0           0            0             0   \n",
       "1  ...  21.6           1           0           0            0             1   \n",
       "2  ...  34.7           1           0           0            0             1   \n",
       "3  ...  33.4           1           0           0            0             1   \n",
       "4  ...  36.2           1           0           0            0             1   \n",
       "\n",
       "   TAX_(250, 290]  TAX_(290, 320]  TAX_(320, 400]  TAX_(400, 600]  \n",
       "0               0               1               0               0  \n",
       "1               0               0               0               0  \n",
       "2               0               0               0               0  \n",
       "3               0               0               0               0  \n",
       "4               0               0               0               0  \n",
       "\n",
       "[5 rows x 21 columns]"
      ]
     },
     "execution_count": 23,
     "metadata": {},
     "output_type": "execute_result"
    }
   ],
   "source": [
    "boston_df = boston_df.drop([\"RAD\",\"TAX\"],axis=1)\n",
    "boston_df.head()"
   ]
  },
  {
   "cell_type": "markdown",
   "metadata": {},
   "source": [
    "Note how you end up with 21 columns now!"
   ]
  },
  {
   "cell_type": "markdown",
   "metadata": {},
   "source": [
    "## Summary\n",
    "\n",
    "In this lab, you practiced your categorical variable knowledge on the Boston Housing Data Set!"
   ]
  }
 ],
 "metadata": {
  "kernelspec": {
   "display_name": "Python 3",
   "language": "python",
   "name": "python3"
  },
  "language_info": {
   "codemirror_mode": {
    "name": "ipython",
    "version": 3
   },
   "file_extension": ".py",
   "mimetype": "text/x-python",
   "name": "python",
   "nbconvert_exporter": "python",
   "pygments_lexer": "ipython3",
<<<<<<< HEAD
   "version": "3.7.3"
=======
   "version": "3.6.6"
>>>>>>> 88c96fa216d8b34b1735311f4e6842526a61d7f0
  }
 },
 "nbformat": 4,
 "nbformat_minor": 2
}
